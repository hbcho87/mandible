{
 "cells": [
  {
   "cell_type": "code",
   "execution_count": 1,
   "id": "d59dc79b",
   "metadata": {},
   "outputs": [],
   "source": [
    "import argparse\n",
    "import random\n",
    "import torch\n",
    "import numpy as np\n",
    "import os\n",
    "import pandas as pd\n",
    "from monai.transforms import (\n",
    "    Compose, Resized, ToTensord, NormalizeIntensityd, \n",
    "    apply_transform, CenterSpatialCropd, RandScaleIntensityd,\n",
    "    ScaleIntensityd, RandSpatialCropd, RandFlipd)\n",
    "from pylab import rcParams\n",
    "import matplotlib\n",
    "import matplotlib.pyplot as plt\n",
    "if \"RTX 20\" not in torch.cuda.get_device_name(0): matplotlib.use('Agg')\n",
    "from monai.networks.nets import UNet, SegResNet, UNETR\n",
    "from monai.losses import DiceLoss\n",
    "from tqdm import tqdm\n",
    "import torch.nn.functional as F\n",
    "\n",
    "def set_seed(seed=0):\n",
    "    random.seed(seed)\n",
    "    np.random.seed(seed)\n",
    "    torch.manual_seed(seed)  \n",
    "    torch.cuda.manual_seed(seed)  \n",
    "    torch.cuda.manual_seed_all(seed)  \n",
    "    torch.backends.cudnn.deterministic = True\n",
    "    \n",
    "class MandibleData(torch.utils.data.Dataset):\n",
    "    def __init__(self, csv, args, mode, get_original=False):\n",
    "        self.csv = csv.reset_index(drop=True)\n",
    "        self.mode = mode\n",
    "        self.get_original = get_original\n",
    "        self.args = args\n",
    "    def __len__(self):\n",
    "        return len(self.csv)\n",
    "    def __getitem__(self, index):\n",
    "        row = self.csv.iloc[index]\n",
    "        img_dir = os.path.join(self.args.input_path, \"npy\", f\"{row.ID}_image.npy\").replace(\" \",\"\")\n",
    "        mask_dir = os.path.join(self.args.input_path, \"npy\", f\"{row.ID}_mask.npy\").replace(\" \",\"\")\n",
    "        image = np.load(img_dir) # T, H, W \n",
    "        mask = np.load(mask_dir) # T, H, W\n",
    "        image = np.transpose(image, (1,2,0)) # H, W, T\n",
    "        mask = np.transpose(mask, (1,2,0)) # H, W, T\n",
    "        \n",
    "        if self.args.cut_z < 1:\n",
    "            num_slices = image.shape[2]\n",
    "            cut_slices = int(num_slices*self.args.cut_z)\n",
    "            image=image[:,:,:cut_slices]\n",
    "            mask=mask[:,:,:cut_slices]            \n",
    "\n",
    "        data=dict()\n",
    "        data[\"image\"]=image[np.newaxis,:,:,:] # C, H, W, T\n",
    "        data[\"mask\"]=mask[np.newaxis,:,:,:] # C, H, W, T\n",
    "        img_shape = image.shape\n",
    "        transform = self.get_transform(img_shape, mode=self.mode)\n",
    "        data = apply_transform(transform, data)\n",
    "        data[\"mask\"] = data[\"mask\"].float()\n",
    "        return data\n",
    "        \n",
    "    def get_transform(self, image_size, mode='train'):\n",
    "        if mode==\"train\":\n",
    "            transform = Compose([\n",
    "                RandSpatialCropd(keys=[\"image\",\"mask\"], roi_size=[int(image_size[0]*self.args.rand_crop),\n",
    "                                                                   int(image_size[1]*self.args.rand_crop),\n",
    "                                                                   int(image_size[2]*self.args.rand_crop)], random_size=False),\n",
    "                Resized(keys=[\"image\",\"mask\"],spatial_size=(self.args.resize_h, self.args.resize_w, self.args.resize_t),mode = \"area\"),\n",
    "                RandFlipd(keys=[\"image\", \"mask\"], prob=0.5, spatial_axis=1),\n",
    "                ScaleIntensityd(keys=[\"image\"]), # Change pixels range 0 to 1\n",
    "                NormalizeIntensityd(keys=[\"image\"], nonzero=False, channel_wise=False),    \n",
    "                ToTensord(keys=[\"image\", \"mask\"]),\n",
    "                ])\n",
    "        else:\n",
    "            transform = Compose([\n",
    "                Resized(keys=[\"image\", \"mask\"],spatial_size=(self.args.resize_h, self.args.resize_w, self.args.resize_t),mode = \"area\"),\n",
    "                ScaleIntensityd(keys=[\"image\"]), # Change pixels range 0 to 1\n",
    "                NormalizeIntensityd(keys=[\"image\"], nonzero=False, channel_wise=False),   \n",
    "                ToTensord(keys=[\"image\", \"mask\"]),\n",
    "                ])\n",
    "        return transform\n",
    "    \n",
    "def train_epoch(model, loader, optiminzer):\n",
    "    model.train()\n",
    "    train_loss = []\n",
    "    bar = tqdm(loader)\n",
    "    for data in bar:\n",
    "        images = data[\"image\"].to(device) # B, C, H, W, T \n",
    "        masks = data[\"mask\"].to(device) # B, C, H, W, T\n",
    "        optimizer.zero_grad()\n",
    "        outputs = model(images)\n",
    "        dice_loss = criterion(outputs, masks)\n",
    "        if args.bce_lambda > 0:\n",
    "            bce_loss = F.binary_cross_entropy_with_logits(outputs, masks)\n",
    "            total_loss = dice_loss + bce_loss * args.bce_lambda\n",
    "        else:\n",
    "            total_loss = dice_loss\n",
    "        if torch.cuda.is_available():\n",
    "            scaler.scale(total_loss).backward()\n",
    "            scaler.step(optimizer)\n",
    "            scaler.update()\n",
    "        else:\n",
    "            total_loss.backward()\n",
    "            optimizer.step()\n",
    "        total_loss = total_loss.detach().cpu().item()\n",
    "        train_loss.append(total_loss)\n",
    "        smooth_loss = sum(train_loss[-100:]) / min(len(train_loss), 100)\n",
    "        bar.set_description('loss: %.5f, smth: %.5f' % (total_loss, smooth_loss))\n",
    "        del images, masks, outputs, dice_loss\n",
    "    loss_mean = np.mean(train_loss)\n",
    "    return loss_mean\n",
    "\n",
    "    \n",
    "def get_iou_dice(preds, targets, SMOOTH = 1e-6):\n",
    "    preds = preds>0.5\n",
    "    targets = targets.type(torch.bool)\n",
    "    intersection = (preds & targets).float().sum((1, 2, 3))\n",
    "    union = (preds | targets).float().sum((1, 2, 3)) \n",
    "    mask_sum = (preds.float() + targets.float()).sum((1, 2, 3))\n",
    "    iou = (intersection + SMOOTH) / (union + SMOOTH)\n",
    "    dice = (2 * (intersection + SMOOTH)) / (mask_sum + SMOOTH)\n",
    "    return iou, dice\n",
    "\n",
    "def val_epoch(model, loader):\n",
    "    model.eval()\n",
    "    val_loss={}\n",
    "\n",
    "    bar = tqdm(loader)\n",
    "    val_loss = []\n",
    "    val_dice = []\n",
    "    with torch.no_grad():\n",
    "        for data in bar: #B, C, H, W, T\n",
    "            images = data['image'].to(device) # B, C, H, W, T \n",
    "            masks = data[\"mask\"].to(device) # B, C, H, W, T\n",
    "            logits = model(images)\n",
    "            dice_loss = criterion(logits, masks)\n",
    "            if not args.bce_lambda > 0:\n",
    "                bce_loss = F.binary_cross_entropy_with_logits(logits, masks)\n",
    "                total_loss = dice_loss + bce_loss * args.bce_lambda\n",
    "            else:\n",
    "                total_loss = dice_loss\n",
    "            val_loss.append(total_loss.detach().cpu().numpy().item())\n",
    "            probs = logits.sigmoid().detach().cpu()\n",
    "            masks = masks.detach().cpu()\n",
    "            del logits\n",
    "            probs[probs > 0.5] = 1\n",
    "            probs[probs <= 0.5] = 0\n",
    "            probs = probs.type(torch.uint8)\n",
    "            _, dice = get_iou_dice(probs.squeeze(1), masks.squeeze(1), SMOOTH = 1e-6)\n",
    "            dice = dice.mean().item()\n",
    "            val_dice.append(dice)\n",
    "            del images, masks, dice_loss, probs, dice\n",
    "        val_loss = np.mean(val_loss)\n",
    "        val_dice = np.mean(val_dice)\n",
    "    return val_loss, val_dice\n",
    "\n",
    "def plot_loss(csv_dir, png_dir):\n",
    "    plt.rcParams[\"figure.figsize\"]=(5,5)\n",
    "    fig = plt.figure(figsize=(10,8))\n",
    "    csv_df = pd.read_csv(csv_dir)\n",
    "    train_loss = csv_df[f'train_loss'].to_list()\n",
    "    valid_loss = csv_df[f'val_loss'].to_list()\n",
    "    plt.plot(range(1,len(train_loss)+1),train_loss, label='Training Loss')\n",
    "    plt.plot(range(1,len(valid_loss)+1),valid_loss,label='Validation Loss')\n",
    "    minposs = valid_loss.index(min(valid_loss))+1\n",
    "    plt.axvline(minposs, linestyle='--', color='r',label='Min Loss')\n",
    "\n",
    "    plt.xlabel('epochs', fontsize=14)\n",
    "    plt.ylabel(f'loss', fontsize=14)\n",
    "    plt.xlim(0, len(train_loss)+1) \n",
    "    plt.grid(True)\n",
    "    plt.legend(fontsize=12)\n",
    "    plt.tight_layout()\n",
    "    plt.xticks(fontsize=12)\n",
    "    plt.yticks(fontsize=12)\n",
    "    fig.savefig(png_dir, bbox_inches = 'tight', pad_inches = 0)\n"
   ]
  },
  {
   "cell_type": "code",
   "execution_count": 2,
   "id": "36f24c12",
   "metadata": {},
   "outputs": [
    {
     "name": "stdout",
     "output_type": "stream",
     "text": [
      "Namespace(DEBUG='F', SEED=410, batch_size=8, bce_lambda=0.5, cut_z=0.6, early_stop=0, fold=1, init_lr=0.0001, input_path='../data/process/total/', model='segresnet', n_epochs=100, num_workers=0, output_path='../outputs/', plt_show='T', rand_crop=0.95, resize_h=64, resize_t=32, resize_w=64, suffix='debug', weight_dir=None)\n"
     ]
    }
   ],
   "source": [
    "if __name__ == '__main__':\n",
    "    parser = argparse.ArgumentParser()\n",
    "    parser.add_argument('--SEED', type=int, default= 410)\n",
    "    parser.add_argument('--input_path', type=str, default='../data/process/total/')\n",
    "    parser.add_argument('--output_path', type=str, default='../outputs/')\n",
    "    parser.add_argument('--suffix', type=str, default='debug')\n",
    "    parser.add_argument('--fold', type=int, default=1)\n",
    "    parser.add_argument('--DEBUG', type=str, default=\"F\")\n",
    "    parser.add_argument(\"--batch_size\", type=int, default=8)\n",
    "    parser.add_argument(\"--weight_dir\", type=str, default=None) \n",
    "    parser.add_argument(\"--num_workers\", type=int, default=0)\n",
    "    parser.add_argument(\"--init_lr\", type=float, default=1e-4)\n",
    "    parser.add_argument(\"--n_epochs\", type=int, default=100)\n",
    "    parser.add_argument(\"--cut_z\", type=float, default=0.6)\n",
    "    parser.add_argument(\"--rand_crop\", type=float, default=0.95)\n",
    "    parser.add_argument(\"--resize_h\", type=int, default=64) # 96, 128 160\n",
    "    parser.add_argument(\"--resize_w\", type=int, default=64) # 96, 128 160\n",
    "    parser.add_argument(\"--resize_t\", type=int, default=32) # 96, 64 160\n",
    "    parser.add_argument(\"--early_stop\", type=int, default=0)\n",
    "    parser.add_argument('--plt_show', type=str, default=\"T\")\n",
    "    parser.add_argument('--model', type=str, default=\"segresnet\") # unet, segresnet, unetr\n",
    "    parser.add_argument(\"--bce_lambda\", type=float, default=0.5)\n",
    "    args, _ = parser.parse_known_args()\n",
    "    print(args)"
   ]
  },
  {
   "cell_type": "code",
   "execution_count": 3,
   "id": "7ac19fe5",
   "metadata": {},
   "outputs": [],
   "source": [
    "set_seed(seed=args.SEED)\n",
    "output_path = os.path.join(args.output_path, args.suffix)\n",
    "os.makedirs(output_path, exist_ok=True)\n",
    "\n",
    "set_dir = os.path.join(output_path, f'train_set{args.fold:02d}.txt')\n",
    "with open(set_dir, 'w') as appender: \n",
    "    appender.write(str(args) + '\\n')  \n",
    "    \n",
    "csv_dir = os.path.join(output_path, f'train_log{args.fold:02d}.csv')\n",
    "with open(csv_dir, 'w') as appender:\n",
    "    appender.write(\"Epochs,lr,train_loss,val_loss,val_dice\" + '\\n')  \n",
    "\n",
    "df = pd.read_csv(os.path.join(args.input_path,\"total_data.csv\"))\n",
    "df['fold'] = df.index % 5 + 1 \n",
    "\n",
    "df_train = df[(df['fold'] != args.fold)].reset_index(drop=True) \n",
    "df_val = df[(df['fold'] == args.fold)].reset_index(drop=True)\n",
    "\n",
    "df_train = df_train.sample(frac = 1).reset_index(drop=True) \n",
    "df_val = df_val.sample(frac = 1).reset_index(drop=True) \n",
    "\n",
    "if args.DEBUG == \"T\":\n",
    "    print('DEBUGING...')\n",
    "    df_train = df_train[0:5]\n",
    "    df_val = df_val[0:5]\n",
    "    args.n_epochs = 3\n",
    "\n",
    "dataset_train = MandibleData(df_train, args, \"train\")  \n",
    "dataset_val = MandibleData(df_val, args, \"val\")     \n",
    "\n",
    "loader_train = torch.utils.data.DataLoader(dataset_train, batch_size=args.batch_size, shuffle=True, num_workers=args.num_workers)\n",
    "loader_val = torch.utils.data.DataLoader(dataset_val, batch_size=args.batch_size, shuffle=False, num_workers=args.num_workers)\n"
   ]
  },
  {
   "cell_type": "code",
   "execution_count": 4,
   "id": "e9e5c18b",
   "metadata": {},
   "outputs": [
    {
     "name": "stdout",
     "output_type": "stream",
     "text": [
      "torch.Size([1, 64, 64, 32])\n",
      "torch.Size([1, 64, 64, 32])\n",
      "torch.Size([1, 64, 64, 32])\n",
      "torch.Size([1, 64, 64, 32])\n"
     ]
    },
    {
     "data": {
      "image/png": "[encoded data removed]",
      "text/plain": [
       "<Figure size 1080x1080 with 8 Axes>"
      ]
     },
     "metadata": {
      "needs_background": "light"
     },
     "output_type": "display_data"
    }
   ],
   "source": [
    "if args.plt_show==\"T\":\n",
    "    rcParams['figure.figsize'] = 15,15\n",
    "    f, axarr = plt.subplots(2,4)\n",
    "    for idx in range(4):\n",
    "        data = loader_train.dataset[idx]\n",
    "        print(data['image'].shape)\n",
    "        for j, img in enumerate(['image', 'mask']):\n",
    "            data[img] = data[img].squeeze().sum(axis=1)\n",
    "            axarr[j, idx].imshow(data[img], cmap='gray')\n",
    "            axarr[j, idx].axis(\"off\")\n",
    "            axarr[j, idx].set_title(f\"Data {idx}: {img}\")"
   ]
  },
  {
   "cell_type": "code",
   "execution_count": 5,
   "id": "0085847e",
   "metadata": {},
   "outputs": [
    {
     "name": "stdout",
     "output_type": "stream",
     "text": [
      "Model: segresnet // Total parameter: 4,700,897 // Trainable parameter: 4,700,897\n"
     ]
    }
   ],
   "source": [
    "device = 'cuda' if torch.cuda.is_available() else 'cpu'\n",
    "if torch.cuda.is_available(): scaler = torch.cuda.amp.GradScaler()\n",
    "if args.model == 'unet':\n",
    "    model = UNet(\n",
    "        dimensions=3,\n",
    "        in_channels=1,\n",
    "        out_channels=1,\n",
    "        channels=(16, 32, 64, 128, 256),\n",
    "        strides=(2, 2, 2, 2),\n",
    "        num_res_units=2,\n",
    "    ).to(device)\n",
    "elif args.model == 'segresnet':\n",
    "    model = SegResNet(\n",
    "        blocks_down=[1, 2, 2, 4],\n",
    "        blocks_up=[1, 1, 1],\n",
    "        init_filters=16,\n",
    "        in_channels=1,\n",
    "        out_channels=1,\n",
    "        dropout_prob=0.2,\n",
    "        ).to(device)\n",
    "elif args.model == 'unetr':\n",
    "    model = UNETR(\n",
    "        in_channels=1,\n",
    "        out_channels=1,\n",
    "        img_size=(args.resize_h, args.resize_w, args.resize_t),\n",
    "        feature_size=16, # 16\n",
    "        hidden_size=768, # 768\n",
    "        mlp_dim=3072, # 3072\n",
    "        num_heads=12, # 12\n",
    "        pos_embed=\"perceptron\",\n",
    "        norm_name=\"instance\",\n",
    "        res_block=True,\n",
    "        dropout_rate=0.0,\n",
    "        ).to(device)\n",
    "    \n",
    "if args.weight_dir is not None: \n",
    "    print(f\"Load '{args.weight_dir}'...\")\n",
    "    try:  # single GPU model_file\n",
    "        model.load_state_dict(torch.load(args.weight_dir), strict=True)\n",
    "    except:  # multi GPU model_file\n",
    "        state_dict = torch.load(args.weight_dir)\n",
    "        state_dict = {k[7:] if k.startswith('module.') else k: state_dict[k] for k in state_dict.keys()}\n",
    "        model.load_state_dict(state_dict, strict=True)\n",
    "\n",
    "if torch.cuda.device_count() > 1: model = torch.nn.DataParallel(model)\n",
    "    \n",
    "total_params = sum(p.numel() for p in model.parameters())\n",
    "trainable_params = sum(p.numel() for p in model.parameters() if p.requires_grad)\n",
    "contents = f\"Model: {args.model} // Total parameter: {format(total_params, ',d')} // Trainable parameter: {format(trainable_params, ',d')}\"\n",
    "print(contents)\n",
    "with open(set_dir, 'a') as appender: appender.write(contents+\"\\n\")  \n",
    "\n",
    "criterion = DiceLoss(sigmoid=True)\n",
    "optimizer = torch.optim.Adam(model.parameters(), lr=args.init_lr)\n",
    "scheduler_cosine = torch.optim.lr_scheduler.CosineAnnealingWarmRestarts(optimizer, args.n_epochs)\n",
    "val_dice_best = -1\n",
    "val_loss_best = np.inf\n",
    "early_count = 0\n",
    "print(len(dataset_train), len(dataset_val))\n"
   ]
  },
  {
   "cell_type": "code",
   "execution_count": 7,
   "id": "9f9b7afb",
   "metadata": {
    "scrolled": true
   },
   "outputs": [
    {
     "name": "stderr",
     "output_type": "stream",
     "text": [
      "loss: 0.98064, smth: 1.01535: 100%|████████████████████████████████████████████████████| 24/24 [00:16<00:00,  1.42it/s]\n",
      "100%|████████████████████████████████████████████████████████████████████████████████████| 6/6 [00:01<00:00,  3.36it/s]\n"
     ]
    },
    {
     "name": "stdout",
     "output_type": "stream",
     "text": [
      "Fold 1, Epoch 0, lr: 0.00010 trn loss: 1.0154, val loss: 0.8455, val dice: 0.0000\n",
      "val_dice_best (-1.00000 --> 0.00000)\n",
      "val_loss_best (inf --> 0.84554)\n"
     ]
    },
    {
     "name": "stderr",
     "output_type": "stream",
     "text": [
      "loss: 0.95910, smth: 0.95883: 100%|████████████████████████████████████████████████████| 24/24 [00:11<00:00,  2.16it/s]\n",
      "100%|████████████████████████████████████████████████████████████████████████████████████| 6/6 [00:01<00:00,  5.58it/s]\n"
     ]
    },
    {
     "name": "stdout",
     "output_type": "stream",
     "text": [
      "Fold 1, Epoch 1, lr: 0.00010 trn loss: 0.9588, val loss: 0.8376, val dice: 0.0000\n",
      "val_loss_best (0.84554 --> 0.83758)\n"
     ]
    },
    {
     "name": "stderr",
     "output_type": "stream",
     "text": [
      "loss: 0.94849, smth: 0.94611: 100%|████████████████████████████████████████████████████| 24/24 [00:11<00:00,  2.14it/s]\n",
      "100%|████████████████████████████████████████████████████████████████████████████████████| 6/6 [00:01<00:00,  5.41it/s]\n"
     ]
    },
    {
     "name": "stdout",
     "output_type": "stream",
     "text": [
      "Fold 1, Epoch 2, lr: 0.00010 trn loss: 0.9461, val loss: 0.8273, val dice: 0.2239\n",
      "val_dice_best (0.00000 --> 0.22390)\n",
      "val_loss_best (0.83758 --> 0.82728)\n"
     ]
    },
    {
     "name": "stderr",
     "output_type": "stream",
     "text": [
      "loss: 0.85417, smth: 0.89785: 100%|████████████████████████████████████████████████████| 24/24 [00:11<00:00,  2.13it/s]\n",
      "100%|████████████████████████████████████████████████████████████████████████████████████| 6/6 [00:01<00:00,  5.43it/s]\n"
     ]
    },
    {
     "name": "stdout",
     "output_type": "stream",
     "text": [
      "Fold 1, Epoch 3, lr: 0.00010 trn loss: 0.8978, val loss: 0.7718, val dice: 0.7375\n",
      "val_dice_best (0.22390 --> 0.73754)\n",
      "val_loss_best (0.82728 --> 0.77183)\n"
     ]
    },
    {
     "name": "stderr",
     "output_type": "stream",
     "text": [
      "loss: 0.86809, smth: 0.87653:  33%|█████████████████▋                                   | 8/24 [00:04<00:08,  1.87it/s]\n"
     ]
    },
    {
     "ename": "KeyboardInterrupt",
     "evalue": "",
     "output_type": "error",
     "traceback": [
      "\u001b[1;31m---------------------------------------------------------------------------\u001b[0m",
      "\u001b[1;31mKeyboardInterrupt\u001b[0m                         Traceback (most recent call last)",
      "\u001b[1;32m~\\AppData\\Local\\Temp/ipykernel_15620/2875052535.py\u001b[0m in \u001b[0;36m<module>\u001b[1;34m\u001b[0m\n\u001b[0;32m      1\u001b[0m \u001b[1;32mfor\u001b[0m \u001b[0mepoch\u001b[0m \u001b[1;32min\u001b[0m \u001b[0mrange\u001b[0m\u001b[1;33m(\u001b[0m\u001b[0margs\u001b[0m\u001b[1;33m.\u001b[0m\u001b[0mn_epochs\u001b[0m\u001b[1;33m)\u001b[0m\u001b[1;33m:\u001b[0m\u001b[1;33m\u001b[0m\u001b[0m\n\u001b[0;32m      2\u001b[0m     \u001b[0mscheduler_cosine\u001b[0m\u001b[1;33m.\u001b[0m\u001b[0mstep\u001b[0m\u001b[1;33m(\u001b[0m\u001b[0mepoch\u001b[0m\u001b[1;33m)\u001b[0m\u001b[1;33m\u001b[0m\u001b[0m\n\u001b[1;32m----> 3\u001b[1;33m     \u001b[0mtrain_loss\u001b[0m \u001b[1;33m=\u001b[0m \u001b[0mtrain_epoch\u001b[0m\u001b[1;33m(\u001b[0m\u001b[0mmodel\u001b[0m\u001b[1;33m,\u001b[0m \u001b[0mloader_train\u001b[0m\u001b[1;33m,\u001b[0m \u001b[0moptimizer\u001b[0m\u001b[1;33m)\u001b[0m\u001b[1;33m\u001b[0m\u001b[0m\n\u001b[0m\u001b[0;32m      4\u001b[0m     \u001b[0mval_loss\u001b[0m\u001b[1;33m,\u001b[0m \u001b[0mval_dice\u001b[0m \u001b[1;33m=\u001b[0m \u001b[0mval_epoch\u001b[0m\u001b[1;33m(\u001b[0m\u001b[0mmodel\u001b[0m\u001b[1;33m,\u001b[0m \u001b[0mloader_val\u001b[0m\u001b[1;33m)\u001b[0m\u001b[1;33m\u001b[0m\u001b[0m\n\u001b[0;32m      5\u001b[0m     \u001b[0mcontent\u001b[0m \u001b[1;33m=\u001b[0m \u001b[1;34mf'Fold {args.fold}, Epoch {epoch}, lr: {optimizer.param_groups[0][\"lr\"]:.5f} trn loss: {train_loss:.4f}, val loss: {val_loss:.4f}, val dice: {val_dice:.4f}'\u001b[0m\u001b[1;33m\u001b[0m\u001b[0m\n",
      "\u001b[1;32m~\\AppData\\Local\\Temp/ipykernel_15620/3976459081.py\u001b[0m in \u001b[0;36mtrain_epoch\u001b[1;34m(model, loader, optiminzer)\u001b[0m\n\u001b[0;32m     96\u001b[0m         \u001b[1;32mif\u001b[0m \u001b[0mtorch\u001b[0m\u001b[1;33m.\u001b[0m\u001b[0mcuda\u001b[0m\u001b[1;33m.\u001b[0m\u001b[0mis_available\u001b[0m\u001b[1;33m(\u001b[0m\u001b[1;33m)\u001b[0m\u001b[1;33m:\u001b[0m\u001b[1;33m\u001b[0m\u001b[0m\n\u001b[0;32m     97\u001b[0m             \u001b[0mscaler\u001b[0m\u001b[1;33m.\u001b[0m\u001b[0mscale\u001b[0m\u001b[1;33m(\u001b[0m\u001b[0mtotal_loss\u001b[0m\u001b[1;33m)\u001b[0m\u001b[1;33m.\u001b[0m\u001b[0mbackward\u001b[0m\u001b[1;33m(\u001b[0m\u001b[1;33m)\u001b[0m\u001b[1;33m\u001b[0m\u001b[0m\n\u001b[1;32m---> 98\u001b[1;33m             \u001b[0mscaler\u001b[0m\u001b[1;33m.\u001b[0m\u001b[0mstep\u001b[0m\u001b[1;33m(\u001b[0m\u001b[0moptimizer\u001b[0m\u001b[1;33m)\u001b[0m\u001b[1;33m\u001b[0m\u001b[0m\n\u001b[0m\u001b[0;32m     99\u001b[0m             \u001b[0mscaler\u001b[0m\u001b[1;33m.\u001b[0m\u001b[0mupdate\u001b[0m\u001b[1;33m(\u001b[0m\u001b[1;33m)\u001b[0m\u001b[1;33m\u001b[0m\u001b[0m\n\u001b[0;32m    100\u001b[0m         \u001b[1;32melse\u001b[0m\u001b[1;33m:\u001b[0m\u001b[1;33m\u001b[0m\u001b[0m\n",
      "\u001b[1;32m~\\anaconda3\\envs\\nerve\\lib\\site-packages\\torch\\cuda\\amp\\grad_scaler.py\u001b[0m in \u001b[0;36mstep\u001b[1;34m(self, optimizer, *args, **kwargs)\u001b[0m\n\u001b[0;32m    336\u001b[0m         \u001b[1;32massert\u001b[0m \u001b[0mlen\u001b[0m\u001b[1;33m(\u001b[0m\u001b[0moptimizer_state\u001b[0m\u001b[1;33m[\u001b[0m\u001b[1;34m\"found_inf_per_device\"\u001b[0m\u001b[1;33m]\u001b[0m\u001b[1;33m)\u001b[0m \u001b[1;33m>\u001b[0m \u001b[1;36m0\u001b[0m\u001b[1;33m,\u001b[0m \u001b[1;34m\"No inf checks were recorded for this optimizer.\"\u001b[0m\u001b[1;33m\u001b[0m\u001b[0m\n\u001b[0;32m    337\u001b[0m \u001b[1;33m\u001b[0m\u001b[0m\n\u001b[1;32m--> 338\u001b[1;33m         \u001b[0mretval\u001b[0m \u001b[1;33m=\u001b[0m \u001b[0mself\u001b[0m\u001b[1;33m.\u001b[0m\u001b[0m_maybe_opt_step\u001b[0m\u001b[1;33m(\u001b[0m\u001b[0moptimizer\u001b[0m\u001b[1;33m,\u001b[0m \u001b[0moptimizer_state\u001b[0m\u001b[1;33m,\u001b[0m \u001b[1;33m*\u001b[0m\u001b[0margs\u001b[0m\u001b[1;33m,\u001b[0m \u001b[1;33m**\u001b[0m\u001b[0mkwargs\u001b[0m\u001b[1;33m)\u001b[0m\u001b[1;33m\u001b[0m\u001b[0m\n\u001b[0m\u001b[0;32m    339\u001b[0m \u001b[1;33m\u001b[0m\u001b[0m\n\u001b[0;32m    340\u001b[0m         \u001b[0moptimizer_state\u001b[0m\u001b[1;33m[\u001b[0m\u001b[1;34m\"stage\"\u001b[0m\u001b[1;33m]\u001b[0m \u001b[1;33m=\u001b[0m \u001b[0mOptState\u001b[0m\u001b[1;33m.\u001b[0m\u001b[0mSTEPPED\u001b[0m\u001b[1;33m\u001b[0m\u001b[0m\n",
      "\u001b[1;32m~\\anaconda3\\envs\\nerve\\lib\\site-packages\\torch\\cuda\\amp\\grad_scaler.py\u001b[0m in \u001b[0;36m_maybe_opt_step\u001b[1;34m(self, optimizer, optimizer_state, *args, **kwargs)\u001b[0m\n\u001b[0;32m    282\u001b[0m     \u001b[1;32mdef\u001b[0m \u001b[0m_maybe_opt_step\u001b[0m\u001b[1;33m(\u001b[0m\u001b[0mself\u001b[0m\u001b[1;33m,\u001b[0m \u001b[0moptimizer\u001b[0m\u001b[1;33m,\u001b[0m \u001b[0moptimizer_state\u001b[0m\u001b[1;33m,\u001b[0m \u001b[1;33m*\u001b[0m\u001b[0margs\u001b[0m\u001b[1;33m,\u001b[0m \u001b[1;33m**\u001b[0m\u001b[0mkwargs\u001b[0m\u001b[1;33m)\u001b[0m\u001b[1;33m:\u001b[0m\u001b[1;33m\u001b[0m\u001b[0m\n\u001b[0;32m    283\u001b[0m         \u001b[0mretval\u001b[0m \u001b[1;33m=\u001b[0m \u001b[1;32mNone\u001b[0m\u001b[1;33m\u001b[0m\u001b[0m\n\u001b[1;32m--> 284\u001b[1;33m         \u001b[1;32mif\u001b[0m \u001b[1;32mnot\u001b[0m \u001b[0msum\u001b[0m\u001b[1;33m(\u001b[0m\u001b[0mv\u001b[0m\u001b[1;33m.\u001b[0m\u001b[0mitem\u001b[0m\u001b[1;33m(\u001b[0m\u001b[1;33m)\u001b[0m \u001b[1;32mfor\u001b[0m \u001b[0mv\u001b[0m \u001b[1;32min\u001b[0m \u001b[0moptimizer_state\u001b[0m\u001b[1;33m[\u001b[0m\u001b[1;34m\"found_inf_per_device\"\u001b[0m\u001b[1;33m]\u001b[0m\u001b[1;33m.\u001b[0m\u001b[0mvalues\u001b[0m\u001b[1;33m(\u001b[0m\u001b[1;33m)\u001b[0m\u001b[1;33m)\u001b[0m\u001b[1;33m:\u001b[0m\u001b[1;33m\u001b[0m\u001b[0m\n\u001b[0m\u001b[0;32m    285\u001b[0m             \u001b[0mretval\u001b[0m \u001b[1;33m=\u001b[0m \u001b[0moptimizer\u001b[0m\u001b[1;33m.\u001b[0m\u001b[0mstep\u001b[0m\u001b[1;33m(\u001b[0m\u001b[1;33m*\u001b[0m\u001b[0margs\u001b[0m\u001b[1;33m,\u001b[0m \u001b[1;33m**\u001b[0m\u001b[0mkwargs\u001b[0m\u001b[1;33m)\u001b[0m\u001b[1;33m\u001b[0m\u001b[0m\n\u001b[0;32m    286\u001b[0m         \u001b[1;32mreturn\u001b[0m \u001b[0mretval\u001b[0m\u001b[1;33m\u001b[0m\u001b[0m\n",
      "\u001b[1;32m~\\anaconda3\\envs\\nerve\\lib\\site-packages\\torch\\cuda\\amp\\grad_scaler.py\u001b[0m in \u001b[0;36m<genexpr>\u001b[1;34m(.0)\u001b[0m\n\u001b[0;32m    282\u001b[0m     \u001b[1;32mdef\u001b[0m \u001b[0m_maybe_opt_step\u001b[0m\u001b[1;33m(\u001b[0m\u001b[0mself\u001b[0m\u001b[1;33m,\u001b[0m \u001b[0moptimizer\u001b[0m\u001b[1;33m,\u001b[0m \u001b[0moptimizer_state\u001b[0m\u001b[1;33m,\u001b[0m \u001b[1;33m*\u001b[0m\u001b[0margs\u001b[0m\u001b[1;33m,\u001b[0m \u001b[1;33m**\u001b[0m\u001b[0mkwargs\u001b[0m\u001b[1;33m)\u001b[0m\u001b[1;33m:\u001b[0m\u001b[1;33m\u001b[0m\u001b[0m\n\u001b[0;32m    283\u001b[0m         \u001b[0mretval\u001b[0m \u001b[1;33m=\u001b[0m \u001b[1;32mNone\u001b[0m\u001b[1;33m\u001b[0m\u001b[0m\n\u001b[1;32m--> 284\u001b[1;33m         \u001b[1;32mif\u001b[0m \u001b[1;32mnot\u001b[0m \u001b[0msum\u001b[0m\u001b[1;33m(\u001b[0m\u001b[0mv\u001b[0m\u001b[1;33m.\u001b[0m\u001b[0mitem\u001b[0m\u001b[1;33m(\u001b[0m\u001b[1;33m)\u001b[0m \u001b[1;32mfor\u001b[0m \u001b[0mv\u001b[0m \u001b[1;32min\u001b[0m \u001b[0moptimizer_state\u001b[0m\u001b[1;33m[\u001b[0m\u001b[1;34m\"found_inf_per_device\"\u001b[0m\u001b[1;33m]\u001b[0m\u001b[1;33m.\u001b[0m\u001b[0mvalues\u001b[0m\u001b[1;33m(\u001b[0m\u001b[1;33m)\u001b[0m\u001b[1;33m)\u001b[0m\u001b[1;33m:\u001b[0m\u001b[1;33m\u001b[0m\u001b[0m\n\u001b[0m\u001b[0;32m    285\u001b[0m             \u001b[0mretval\u001b[0m \u001b[1;33m=\u001b[0m \u001b[0moptimizer\u001b[0m\u001b[1;33m.\u001b[0m\u001b[0mstep\u001b[0m\u001b[1;33m(\u001b[0m\u001b[1;33m*\u001b[0m\u001b[0margs\u001b[0m\u001b[1;33m,\u001b[0m \u001b[1;33m**\u001b[0m\u001b[0mkwargs\u001b[0m\u001b[1;33m)\u001b[0m\u001b[1;33m\u001b[0m\u001b[0m\n\u001b[0;32m    286\u001b[0m         \u001b[1;32mreturn\u001b[0m \u001b[0mretval\u001b[0m\u001b[1;33m\u001b[0m\u001b[0m\n",
      "\u001b[1;31mKeyboardInterrupt\u001b[0m: "
     ]
    }
   ],
   "source": [
    "for epoch in range(args.n_epochs):\n",
    "    scheduler_cosine.step(epoch)\n",
    "    train_loss = train_epoch(model, loader_train, optimizer)\n",
    "    val_loss, val_dice = val_epoch(model, loader_val)\n",
    "    content = f'Fold {args.fold}, Epoch {epoch}, lr: {optimizer.param_groups[0][\"lr\"]:.5f} trn loss: {train_loss:.4f}, val loss: {val_loss:.4f}, val dice: {val_dice:.4f}'\n",
    "    print(content)\n",
    "    with open(csv_dir, 'a') as appender:\n",
    "        lr = optimizer.param_groups[0][\"lr\"]\n",
    "        appender.write(f\"{epoch},{lr:.6f},{train_loss:.4f},{val_loss:.4f},{val_dice:.4f}\\n\")  \n",
    "    torch.save(model.state_dict(), os.path.join(output_path,f'last_epoch{args.fold:02d}.pth'))\n",
    "    \n",
    "    if val_dice > val_dice_best:\n",
    "        print('val_dice_best ({:.5f} --> {:.5f})'.format(val_dice_best, val_dice))\n",
    "        torch.save(model.state_dict(), os.path.join(output_path,f'best_dice{args.fold:02d}.pth'))\n",
    "        val_dice_best = val_dice\n",
    "        early_count = 0\n",
    "        \n",
    "    if val_loss < val_loss_best:\n",
    "        print('val_loss_best ({:.5f} --> {:.5f})'.format(val_loss_best, val_loss))\n",
    "        torch.save(model.state_dict(), os.path.join(output_path,f'best_loss{args.fold:02d}.pth'))\n",
    "        val_loss_best = val_loss\n",
    "    else:\n",
    "        early_count += 1\n",
    "        if args.early_stop != 0:\n",
    "            print(f'EarlyStopping counter: {early_count} out of {args.early_stop}')\n",
    "        if early_count == args.early_stop:\n",
    "            print(\"Early stopping\")\n",
    "            break\n",
    "            \n",
    "png_dir = os.path.join(output_path, \"epochs_loss.png\")\n",
    "plot_loss(csv_dir, png_dir)\n"
   ]
  },
  {
   "cell_type": "code",
   "execution_count": null,
   "id": "ac992293",
   "metadata": {},
   "outputs": [],
   "source": []
  },
  {
   "cell_type": "code",
   "execution_count": null,
   "id": "bc9559eb",
   "metadata": {},
   "outputs": [],
   "source": []
  }
 ],
 "metadata": {
  "kernelspec": {
   "display_name": "Python 3 (ipykernel)",
   "language": "python",
   "name": "python3"
  },
  "language_info": {
   "codemirror_mode": {
    "name": "ipython",
    "version": 3
   },
   "file_extension": ".py",
   "mimetype": "text/x-python",
   "name": "python",
   "nbconvert_exporter": "python",
   "pygments_lexer": "ipython3",
   "version": "3.7.0"
  }
 },
 "nbformat": 4,
 "nbformat_minor": 5
}
