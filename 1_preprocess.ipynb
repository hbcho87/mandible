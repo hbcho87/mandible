{
 "cells": [
  {
   "cell_type": "code",
   "execution_count": 1,
   "id": "3da9ea60",
   "metadata": {},
   "outputs": [],
   "source": [
    "import matplotlib.pyplot as plt\n",
    "plt.rcParams['image.cmap'] = 'gray' \n",
    "import numpy as np\n",
    "import os\n",
    "from glob import glob\n",
    "import SimpleITK as sitk\n",
    "import cv2\n",
    "import argparse\n",
    "from tqdm import tqdm\n",
    "\n",
    "def myshow(img, title=None, margin=0.05, dpi=80 ):\n",
    "    nda = sitk.GetArrayFromImage(img)\n",
    "    spacing = img.GetSpacing()\n",
    "    slicer = False\n",
    "    if nda.ndim == 3:\n",
    "        # fastest dim, either component or x\n",
    "        c = nda.shape[-1]\n",
    "        # the the number of components is 3 or 4 consider it an RGB image\n",
    "        if not c in (3,4):\n",
    "            slicer = True\n",
    "    elif nda.ndim == 4:\n",
    "        c = nda.shape[-1]\n",
    "        if not c in (3,4):\n",
    "            raise Runtime(\"Unable to show 3D-vector Image\")\n",
    "        # take a z-slice\n",
    "        slicer = True\n",
    "    if (slicer):\n",
    "        ysize = nda.shape[1]\n",
    "        xsize = nda.shape[2]\n",
    "    else:\n",
    "        ysize = nda.shape[0]\n",
    "        xsize = nda.shape[1]\n",
    "    # Make a figure big enough to accomodate an axis of xpixels by ypixels\n",
    "    # as well as the ticklabels, etc...\n",
    "    figsize = (1 + margin) * ysize / dpi, (1 + margin) * xsize / dpi\n",
    "    def callback(z=None):\n",
    "        extent = (0, xsize*spacing[1], ysize*spacing[0], 0)\n",
    "        fig = plt.figure(figsize=figsize, dpi=dpi)\n",
    "        # Make the axis the right size...\n",
    "        ax = fig.add_axes([margin, margin, 1 - 2*margin, 1 - 2*margin])\n",
    "        plt.set_cmap(\"gray\")\n",
    "        if z is None:\n",
    "            ax.imshow(nda,extent=extent,interpolation=None)\n",
    "        else:\n",
    "            ax.imshow(nda[z,...],extent=extent,interpolation=None)\n",
    "        if title:\n",
    "            plt.title(title)\n",
    "        plt.show()\n",
    "    if slicer:\n",
    "        interact(callback, z=(0,nda.shape[0]-1))\n",
    "    else:\n",
    "        callback()\n",
    "def myshow3d(img, xslices=[], yslices=[], zslices=[], title=None, margin=0.05, dpi=80):\n",
    "    size = img.GetSize()\n",
    "    img_xslices = [img[s,:,:] for s in xslices]\n",
    "    img_yslices = [img[:,s,:] for s in yslices]\n",
    "    img_zslices = [img[:,:,s] for s in zslices]\n",
    "    maxlen = max(len(img_xslices), len(img_yslices), len(img_zslices))\n",
    "    img_null = sitk.Image([0,0], img.GetPixelID(), img.GetNumberOfComponentsPerPixel())\n",
    "    img_slices = []\n",
    "    d = 0\n",
    "    if len(img_xslices):\n",
    "        img_slices += img_xslices + [img_null]*(maxlen-len(img_xslices))\n",
    "        d += 1\n",
    "    if len(img_yslices):\n",
    "        img_slices += img_yslices + [img_null]*(maxlen-len(img_yslices))\n",
    "        d += 1\n",
    "    if len(img_zslices):\n",
    "        img_slices += img_zslices + [img_null]*(maxlen-len(img_zslices))\n",
    "        d +=1\n",
    "    if maxlen != 0:\n",
    "        if img.GetNumberOfComponentsPerPixel() == 1:\n",
    "            img = sitk.Tile(img_slices, [maxlen,d])\n",
    "        #TODO check in code to get Tile Filter working with VectorImages\n",
    "        else:\n",
    "            img_comps = []\n",
    "            for i in range(0,img.GetNumberOfComponentsPerPixel()):\n",
    "                img_slices_c = [sitk.VectorIndexSelectionCast(s, i) for s in img_slices]\n",
    "                img_comps.append(sitk.Tile(img_slices_c, [maxlen,d]))\n",
    "            img = sitk.Compose(img_comps)\n",
    "    myshow(img, title, margin, dpi)\n",
    "    \n",
    "\n",
    "def crop_img(img, mask, diameter_mm=110):\n",
    "    z_list, sum_list = [], []\n",
    "    for idx, m in enumerate(mask):\n",
    "        if np.all((m == 0))== False:\n",
    "            z_list.append(idx)\n",
    "            sum_list.append(m.sum())\n",
    "\n",
    "    num_slices = int(100 // voxel_space[2])\n",
    "    min_z = z_list[0]\n",
    "    max_z = min_z + num_slices\n",
    "    img_crop = img[min_z:max_z]\n",
    "    mask_crop = mask[min_z:max_z]\n",
    "    ref_index = z_list[np.argmax(sum_list)]\n",
    "    nonzero_idx = np.nonzero(mask[ref_index])\n",
    "\n",
    "    \n",
    "    if \"pddca18\" in args.input_path:\n",
    "        center_x = int(np.quantile(nonzero_idx[1],0.5))\n",
    "        center_y = int(np.quantile(nonzero_idx[0],0.8))\n",
    "    else:\n",
    "        center_x = int(np.median(nonzero_idx[1]))\n",
    "        center_y = int(np.median(nonzero_idx[0]))\n",
    "#     print(center_x, center_y)\n",
    "    diameter_pixel = int(diameter_mm//voxel_space[0])\n",
    "    radius = diameter_pixel//2\n",
    "    for idx, (img, mask) in enumerate(zip(img_crop, mask_crop)):\n",
    "        zeros = np.zeros(img.shape)\n",
    "        \n",
    "        cv2.circle(zeros,(center_x, center_y), radius, 1, -1)\n",
    "        img_crop[idx] = img * zeros\n",
    "        mask_crop[idx] = mask * zeros\n",
    "    post_img = img_crop[:, center_y-radius:center_y+radius, center_x-radius:center_x+radius]\n",
    "    post_mask = mask_crop[:, center_y-radius:center_y+radius, center_x-radius:center_x+radius]\n",
    "    return post_img, post_mask\n",
    "\n",
    "def window(img, WL=250, WW=2000):\n",
    "    upper, lower = WL+WW//2, WL-WW//2\n",
    "    X = np.clip(img.copy(), lower, upper)\n",
    "    X = X - np.min(X)\n",
    "    X = X / (np.max(X)- np.min(X))\n",
    "#     X = (X*255.0).astype('uint8')\n",
    "    return X"
   ]
  },
  {
   "cell_type": "code",
   "execution_count": 2,
   "id": "68d6e994",
   "metadata": {},
   "outputs": [],
   "source": [
    "if __name__ == '__main__':\n",
    "    parser = argparse.ArgumentParser()\n",
    "    parser.add_argument('--input_path', type=str, default = \"../data/pddca18/\") \n",
    "    parser.add_argument('--output_path', type=str, default = \"../data/process/pddca18\") \n",
    "    args, _ = parser.parse_known_args()\n"
   ]
  },
  {
   "cell_type": "code",
   "execution_count": 42,
   "id": "2b781246",
   "metadata": {},
   "outputs": [
    {
     "name": "stderr",
     "output_type": "stream",
     "text": [
      "100%|██████████████████████████████████████████████████████████████████████████████████| 48/48 [00:00<00:00, 75.69it/s]\n"
     ]
    }
   ],
   "source": [
    "output_path = args.output_path\n",
    "os.makedirs(output_path, exist_ok=True)\n",
    "npy_path = os.path.join(output_path, \"npy\")\n",
    "os.makedirs(npy_path,exist_ok=True)\n",
    "data_csv = os.path.join(output_path,'data.csv')\n",
    "fail_csv = os.path.join(output_path,'fail.csv')\n",
    "\n",
    "with open(data_csv, 'w') as f:\n",
    "    f.write('ID,row,column,slice,voxel_x,voxel_y,voxel_z,p_row,p_column,p_slice\\n')\n",
    "\n",
    "with open(fail_csv, 'w') as f:\n",
    "    f.write('ID\\n')\n",
    "    \n",
    "data_list = sorted(glob(os.path.join(args.input_path, \"*\")))\n",
    "data_list = [data.replace(\"\\\\\",\"/\") for data in data_list]\n",
    "\n",
    "for index in tqdm(range(len(data_list))):\n",
    "    ID = data_list[index].split(\"/\")[-1]\n",
    "    if \"pddca18\" in args.input_path:\n",
    "        mandible_path = os.path.join(data_list[index], \"structures\", \"Mandible_crp_v2.npy\")\n",
    "        img_path = os.path.join(data_list[index], \"img_crp_v2.npy\")\n",
    "    else:\n",
    "        mandible_path = os.path.join(data_list[index], \"structures\", \"Mandible.nrrd\")\n",
    "        img_path = os.path.join(data_list[index], \"img.nrrd\")\n",
    "\n",
    "    if os.path.exists(mandible_path)==False:\n",
    "#         print(f\"{ID} Mandible data does not exist!\")\n",
    "        with open(fail_csv, 'a') as f:\n",
    "            f.write(f'{ID}\\n')\n",
    "        continue\n",
    "    if \"pddca18\" in args.input_path:\n",
    "        img = np.load(img_path)\n",
    "        mask = np.load(mandible_path)\n",
    "        voxel_space = [1.9, 1.9, 3.0]\n",
    "        post_img, post_mask = crop_img(img, mask,diameter_mm=170)\n",
    "    else:\n",
    "        sitkimg = sitk.ReadImage(img_path)\n",
    "        sitkmask = sitk.ReadImage(mandible_path)\n",
    "        voxel_space = sitkimg.GetSpacing()\n",
    "        img = sitk.GetArrayFromImage(sitkimg)\n",
    "        mask = sitk.GetArrayFromImage(sitkmask)\n",
    "        img = window(img, WL=200, WW=1200) # 1200\n",
    "        post_img, post_mask = crop_img(img, mask,diameter_mm=130)\n",
    "    \n",
    "    post_img = (post_img*255).astype(np.uint8)\n",
    "    post_mask = post_mask.astype(np.uint8)\n",
    "    \n",
    "    with open(data_csv, 'a') as f:\n",
    "        f.write(f'{ID},{img.shape[2]},{img.shape[1]},{img.shape[0]},{voxel_space[1]},{voxel_space[0]},{voxel_space[2]},{post_img.shape[2]},{post_img.shape[1]},{post_img.shape[0]}\\n')\n",
    "\n",
    "\n",
    "    save_img = os.path.join(npy_path , f\"{ID}_image.npy\")\n",
    "    save_mask = os.path.join(npy_path , f\"{ID}_mask.npy\")\n",
    "    np.save(save_img, post_img)\n",
    "    np.save(save_mask, post_mask)\n"
   ]
  },
  {
   "cell_type": "code",
   "execution_count": null,
   "id": "ed4ca464",
   "metadata": {},
   "outputs": [],
   "source": []
  },
  {
   "cell_type": "code",
   "execution_count": 56,
   "id": "86815d9d",
   "metadata": {},
   "outputs": [],
   "source": [
    "from ipywidgets import interact, interactive\n",
    "\n",
    "# post_img = np.load('../data/process/HNPETCTclean/npy/HN-HMR-003_image.npy')\n",
    "# post_mask = np.load('../data/process/HNPETCTclean/npy/HN-HMR-003_mask.npy')\n",
    "\n",
    "post_img = np.load('../data/process/HNPETCTclean/npy/HN-HMR-022_image.npy')\n",
    "post_mask = np.load('../data/process/HNPETCTclean/npy/HN-HMR-022_mask.npy')\n",
    "\n",
    "# post_img = np.load('../data/process/pddca18/npy/0522c0003_image.npy')\n",
    "# post_mask = np.load('../data/process/pddca18/npy/0522c0003_mask.npy')"
   ]
  },
  {
   "cell_type": "code",
   "execution_count": 57,
   "id": "7031b789",
   "metadata": {},
   "outputs": [
    {
     "data": {
      "application/vnd.jupyter.widget-view+json": {
       "model_id": "f94954d0ae2242e6894a563fda9645d5",
       "version_major": 2,
       "version_minor": 0
      },
      "text/plain": [
       "interactive(children=(IntSlider(value=24, description='z', max=49), Output()), _dom_classes=('widget-interact'…"
      ]
     },
     "metadata": {},
     "output_type": "display_data"
    }
   ],
   "source": [
    "myshow3d(sitk.GetImageFromArray(post_img))"
   ]
  },
  {
   "cell_type": "code",
   "execution_count": 58,
   "id": "428ebe40",
   "metadata": {
    "scrolled": true
   },
   "outputs": [
    {
     "data": {
      "application/vnd.jupyter.widget-view+json": {
       "model_id": "dc83b0ff2fdc4c2fb13ae1533bdf50cb",
       "version_major": 2,
       "version_minor": 0
      },
      "text/plain": [
       "interactive(children=(IntSlider(value=24, description='z', max=49), Output()), _dom_classes=('widget-interact'…"
      ]
     },
     "metadata": {},
     "output_type": "display_data"
    }
   ],
   "source": [
    "myshow3d(sitk.GetImageFromArray(post_mask))"
   ]
  },
  {
   "cell_type": "code",
   "execution_count": 54,
   "id": "02d9e60a",
   "metadata": {},
   "outputs": [
    {
     "data": {
      "application/vnd.jupyter.widget-view+json": {
       "model_id": "960d2b8c31ef4491909dd29a7674556f",
       "version_major": 2,
       "version_minor": 0
      },
      "text/plain": [
       "interactive(children=(IntSlider(value=24, description='z', max=49), Output()), _dom_classes=('widget-interact'…"
      ]
     },
     "metadata": {},
     "output_type": "display_data"
    }
   ],
   "source": [
    "myshow3d(sitk.GetImageFromArray(img))"
   ]
  },
  {
   "cell_type": "code",
   "execution_count": 55,
   "id": "e4b1c45e",
   "metadata": {},
   "outputs": [
    {
     "data": {
      "application/vnd.jupyter.widget-view+json": {
       "model_id": "f2c5692484ac4158a5ba78da86a0bd36",
       "version_major": 2,
       "version_minor": 0
      },
      "text/plain": [
       "interactive(children=(IntSlider(value=24, description='z', max=49), Output()), _dom_classes=('widget-interact'…"
      ]
     },
     "metadata": {},
     "output_type": "display_data"
    }
   ],
   "source": [
    "myshow3d(sitk.GetImageFromArray(mask))"
   ]
  },
  {
   "cell_type": "code",
   "execution_count": null,
   "id": "4189af0a",
   "metadata": {},
   "outputs": [],
   "source": []
  },
  {
   "cell_type": "code",
   "execution_count": null,
   "id": "58e9292c",
   "metadata": {},
   "outputs": [],
   "source": []
  },
  {
   "cell_type": "code",
   "execution_count": null,
   "id": "4e17de34",
   "metadata": {},
   "outputs": [],
   "source": []
  }
 ],
 "metadata": {
  "kernelspec": {
   "display_name": "Python 3 (ipykernel)",
   "language": "python",
   "name": "python3"
  },
  "language_info": {
   "codemirror_mode": {
    "name": "ipython",
    "version": 3
   },
   "file_extension": ".py",
   "mimetype": "text/x-python",
   "name": "python",
   "nbconvert_exporter": "python",
   "pygments_lexer": "ipython3",
   "version": "3.7.0"
  }
 },
 "nbformat": 4,
 "nbformat_minor": 5
}
